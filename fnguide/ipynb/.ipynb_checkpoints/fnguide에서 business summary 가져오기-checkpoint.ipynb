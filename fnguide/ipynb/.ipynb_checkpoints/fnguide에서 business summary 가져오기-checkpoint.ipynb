{
 "cells": [
  {
   "cell_type": "code",
   "execution_count": 1,
   "id": "3b388ed5",
   "metadata": {},
   "outputs": [
    {
     "data": {
      "text/html": [
       "<style>.container { width:100% !important; }</style>"
      ],
      "text/plain": [
       "<IPython.core.display.HTML object>"
      ]
     },
     "metadata": {},
     "output_type": "display_data"
    }
   ],
   "source": [
    "import importlib, sys\n",
    "sys.path.append(r\"C:\\Users\\bong2\\OneDrive\\Python_Codes\\00_python_scripts\") # script 경로 window용\n",
    "\n",
    "from IPython.core.display import display, HTML\n",
    "display(HTML(\"<style>.container { width:100% !important; }</style>\"))\n",
    "pd.set_option('display.max_columns', 50)\n",
    "pd.set_option('display.max_rows', 100)  \n",
    "\n",
    "import pandas as pd\n",
    "import requests\n",
    "from bs4 import BeautifulSoup\n",
    "import conn_db\n",
    "import helper\n",
    "user_agent = helper.user_agent"
   ]
  },
  {
   "cell_type": "code",
   "execution_count": 100,
   "id": "7e1445d4",
   "metadata": {},
   "outputs": [
    {
     "data": {
      "text/plain": [
       "<module 'stock_fnguide_cleaner' from 'C:\\\\Users\\\\bong2\\\\OneDrive\\\\Python_Codes\\\\00_python_scripts\\\\stock_fnguide_cleaner.py'>"
      ]
     },
     "execution_count": 100,
     "metadata": {},
     "output_type": "execute_result"
    }
   ],
   "source": [
    "importlib.reload(stock_fnguide_cleaner)"
   ]
  },
  {
   "cell_type": "code",
   "execution_count": 6,
   "id": "f005d55f",
   "metadata": {},
   "outputs": [],
   "source": [
    "import time"
   ]
  },
  {
   "cell_type": "code",
   "execution_count": 5,
   "id": "ee0de839",
   "metadata": {},
   "outputs": [],
   "source": [
    "import stock_fnguide_updater, stock_fnguide_cleaner"
   ]
  },
  {
   "cell_type": "code",
   "execution_count": 8,
   "id": "95c5c203",
   "metadata": {},
   "outputs": [],
   "source": [
    "new = conn_db.from_(\"DB_기업정보\", 'FS_update_list')['종목코드']\n",
    "old = conn_db.from_(\"DB_기업정보\", 'from_fnguide_기업정보')['종목코드']\n",
    "new_code_list = list(set(stock_fnguide_updater.code_list) - set(old))"
   ]
  },
  {
   "cell_type": "code",
   "execution_count": 2,
   "id": "2c3b999f",
   "metadata": {},
   "outputs": [],
   "source": [
    "code_list = conn_db.from_(\"DB_기업정보\", 'FS_update_list')['종목코드']"
   ]
  },
  {
   "cell_type": "code",
   "execution_count": 3,
   "id": "cd80ea12",
   "metadata": {},
   "outputs": [],
   "source": [
    "old = conn_db.from_(\"DB_기업정보\", 'from_fnguide_기업정보')['종목코드']\n",
    "new_code_list = list(set(code_list) - set(old))"
   ]
  },
  {
   "cell_type": "code",
   "execution_count": 4,
   "id": "960e83f3",
   "metadata": {},
   "outputs": [],
   "source": [
    "# fnguide 기업정보 가져올때 결과물 넣을 dataframes\n",
    "company_info = pd.DataFrame() # 업종, business summary\n",
    "financial_highlights = pd.DataFrame() # 재무제표\n",
    "sales_mix = pd.DataFrame() # 제품별 매출비중 가장 최근\n",
    "market_share = pd.DataFrame() # 시장점유율 가장 최근\n",
    "cogs_n_oc = pd.DataFrame() # 판관비율추이, 매출원가율추이\n",
    "export_n_domestic = pd.DataFrame() # 수출 및 내수 구성"
   ]
  },
  {
   "cell_type": "code",
   "execution_count": 11,
   "id": "1f57eae1",
   "metadata": {},
   "outputs": [
    {
     "name": "stdout",
     "output_type": "stream",
     "text": [
      "357120 완료\n",
      "350520 완료\n",
      "338100 완료\n",
      "330590 완료\n",
      "395400 완료\n",
      "380440 완료\n",
      "377190 완료\n",
      "348950 완료\n",
      "293940 완료\n",
      "357250 완료\n",
      "381970 완료\n",
      "334890 완료\n"
     ]
    }
   ],
   "source": [
    "for code in new_code_list:\n",
    "    try:\n",
    "        _get_fnguide_company_info(code)\n",
    "        time.sleep(2)\n",
    "    except:\n",
    "        pass"
   ]
  },
  {
   "cell_type": "code",
   "execution_count": 25,
   "id": "e882cdc4",
   "metadata": {},
   "outputs": [
    {
     "data": {
      "text/plain": [
       "True"
      ]
     },
     "execution_count": 25,
     "metadata": {},
     "output_type": "execute_result"
    }
   ],
   "source": [
    "'KRX' in company_info.columns.tolist()"
   ]
  },
  {
   "cell_type": "code",
   "execution_count": 18,
   "id": "1fa82a7b",
   "metadata": {},
   "outputs": [],
   "source": [
    "company_info['KRX'] = None"
   ]
  },
  {
   "cell_type": "code",
   "execution_count": 20,
   "id": "ec5111a5",
   "metadata": {},
   "outputs": [],
   "source": [
    "company_info['KRX'] =company_info['KRX'].fillna(company_info['KSE'])"
   ]
  },
  {
   "cell_type": "code",
   "execution_count": 16,
   "id": "aacbc4dd",
   "metadata": {},
   "outputs": [],
   "source": [
    "r = requests.get(url, headers={'User-Agent': user_agent})\n",
    "dom = BeautifulSoup(r.text, \"html.parser\")"
   ]
  },
  {
   "cell_type": "code",
   "execution_count": 18,
   "id": "e30d4fa5",
   "metadata": {},
   "outputs": [],
   "source": [
    "temp = []\n",
    "for i in [1,2]: # 1=KSE 업종, 2=FICS 업종\n",
    "    text = dom.select(f'#compBody > div.section.ul_corpinfo > div.corp_group1 > p > span.stxt.stxt{i}')[0]\n",
    "    temp.append(text.text.replace('\\xa0',' ').split(' ',1))\n",
    "industry = pd.DataFrame(temp).T\n",
    "# 첫행을 컬럼으로 변경하고 원래있던 첫행은 삭제\n",
    "industry.columns = industry.iloc[0]\n",
    "industry = industry.iloc[1:,].copy().reset_index(drop=True)"
   ]
  },
  {
   "cell_type": "code",
   "execution_count": 19,
   "id": "94d92db1",
   "metadata": {},
   "outputs": [
    {
     "data": {
      "text/html": [
       "<div>\n",
       "<style scoped>\n",
       "    .dataframe tbody tr th:only-of-type {\n",
       "        vertical-align: middle;\n",
       "    }\n",
       "\n",
       "    .dataframe tbody tr th {\n",
       "        vertical-align: top;\n",
       "    }\n",
       "\n",
       "    .dataframe thead th {\n",
       "        text-align: right;\n",
       "    }\n",
       "</style>\n",
       "<table border=\"1\" class=\"dataframe\">\n",
       "  <thead>\n",
       "    <tr style=\"text-align: right;\">\n",
       "      <th></th>\n",
       "      <th>KONEX</th>\n",
       "      <th>FICS</th>\n",
       "    </tr>\n",
       "  </thead>\n",
       "  <tbody>\n",
       "    <tr>\n",
       "      <th>0</th>\n",
       "      <td>코스닥 제조</td>\n",
       "      <td>식료품</td>\n",
       "    </tr>\n",
       "  </tbody>\n",
       "</table>\n",
       "</div>"
      ],
      "text/plain": [
       "0    KONEX  FICS\n",
       "0   코스닥 제조   식료품"
      ]
     },
     "execution_count": 19,
     "metadata": {},
     "output_type": "execute_result"
    }
   ],
   "source": [
    "industry"
   ]
  },
  {
   "cell_type": "code",
   "execution_count": 20,
   "id": "a87dc0ca",
   "metadata": {},
   "outputs": [],
   "source": [
    "try: # 일부 종목은 Business Summary 없음\n",
    "    biz_summary_date = dom.select('#bizSummaryDate')[0].text.strip()[1:-1]\n",
    "    # 제목\n",
    "    biz_summary_title = dom.select('#bizSummaryHeader')[0].text.replace('\\xa0',' ').strip()\n",
    "    # 내용\n",
    "    contents =[]\n",
    "    for i in range(len(dom.select('#bizSummaryContent > li'))):\n",
    "        contents.append(dom.select('#bizSummaryContent > li')[i].text.replace('\\xa0',' ').strip())\n",
    "    contents = [contents[0] + \" \" + contents[1]]\n",
    "    # 합쳐서 하나로 만들기 + 업종도\n",
    "    contents = pd.DataFrame([biz_summary_date, biz_summary_title, contents]).T\n",
    "    contents[2] = contents[2][0][0] # 내용 컬럼의 값이 앞뒤로 list[]화 되어 있어서 문자열로 변경\n",
    "    df = pd.concat([contents, industry], axis=1)\n",
    "    df['종목코드'] = code\n",
    "    # 결과물 추가\n",
    "    company_info = company_info.append(df)\n",
    "    del contents, biz_summary_date, biz_summary_title, industry, temp\n",
    "except:\n",
    "    pass"
   ]
  },
  {
   "cell_type": "code",
   "execution_count": 15,
   "id": "aa12cb95",
   "metadata": {},
   "outputs": [],
   "source": [
    "company_info = helper.make_keycode(company_info.reset_index(drop=True))"
   ]
  },
  {
   "cell_type": "code",
   "execution_count": 21,
   "id": "51697bee",
   "metadata": {},
   "outputs": [
    {
     "data": {
      "text/html": [
       "<div>\n",
       "<style scoped>\n",
       "    .dataframe tbody tr th:only-of-type {\n",
       "        vertical-align: middle;\n",
       "    }\n",
       "\n",
       "    .dataframe tbody tr th {\n",
       "        vertical-align: top;\n",
       "    }\n",
       "\n",
       "    .dataframe thead th {\n",
       "        text-align: right;\n",
       "    }\n",
       "</style>\n",
       "<table border=\"1\" class=\"dataframe\">\n",
       "  <thead>\n",
       "    <tr style=\"text-align: right;\">\n",
       "      <th></th>\n",
       "      <th>0</th>\n",
       "      <th>1</th>\n",
       "      <th>2</th>\n",
       "      <th>KONEX</th>\n",
       "      <th>FICS</th>\n",
       "      <th>종목코드</th>\n",
       "    </tr>\n",
       "  </thead>\n",
       "  <tbody>\n",
       "    <tr>\n",
       "      <th>0</th>\n",
       "      <td>2021/10/02</td>\n",
       "      <td>신사업을 통한 매출 성장</td>\n",
       "      <td>농축산물과 동물성 원료로부터 분말형태로 식품첨가물을 추출하여 조미식품,기타 식품에 ...</td>\n",
       "      <td>코스닥 제조</td>\n",
       "      <td>식료품</td>\n",
       "      <td>260970</td>\n",
       "    </tr>\n",
       "  </tbody>\n",
       "</table>\n",
       "</div>"
      ],
      "text/plain": [
       "            0              1  \\\n",
       "0  2021/10/02  신사업을 통한 매출 성장   \n",
       "\n",
       "                                                   2    KONEX  FICS    종목코드  \n",
       "0  농축산물과 동물성 원료로부터 분말형태로 식품첨가물을 추출하여 조미식품,기타 식품에 ...   코스닥 제조   식료품  260970  "
      ]
     },
     "execution_count": 21,
     "metadata": {},
     "output_type": "execute_result"
    }
   ],
   "source": [
    "if code == '260970':\n",
    "    try:\n",
    "        company_info.rename(columns={'KONEX':'KOSDAQ', inplace=True}\n",
    "    except:\n",
    "        pass"
   ]
  },
  {
   "cell_type": "code",
   "execution_count": 17,
   "id": "6f3b900a",
   "metadata": {},
   "outputs": [],
   "source": [
    "all_cols = company_info.columns.tolist()"
   ]
  },
  {
   "cell_type": "code",
   "execution_count": 18,
   "id": "553c67d5",
   "metadata": {
    "collapsed": true,
    "jupyter": {
     "outputs_hidden": true
    },
    "tags": []
   },
   "outputs": [
    {
     "ename": "KeyError",
     "evalue": "'KOSDAQ'",
     "output_type": "error",
     "traceback": [
      "\u001b[1;31m---------------------------------------------------------------------------\u001b[0m",
      "\u001b[1;31mKeyError\u001b[0m                                  Traceback (most recent call last)",
      "\u001b[1;32m~\\Anaconda3\\lib\\site-packages\\pandas\\core\\indexes\\base.py\u001b[0m in \u001b[0;36mget_loc\u001b[1;34m(self, key, method, tolerance)\u001b[0m\n\u001b[0;32m   3079\u001b[0m             \u001b[1;32mtry\u001b[0m\u001b[1;33m:\u001b[0m\u001b[1;33m\u001b[0m\u001b[1;33m\u001b[0m\u001b[0m\n\u001b[1;32m-> 3080\u001b[1;33m                 \u001b[1;32mreturn\u001b[0m \u001b[0mself\u001b[0m\u001b[1;33m.\u001b[0m\u001b[0m_engine\u001b[0m\u001b[1;33m.\u001b[0m\u001b[0mget_loc\u001b[0m\u001b[1;33m(\u001b[0m\u001b[0mcasted_key\u001b[0m\u001b[1;33m)\u001b[0m\u001b[1;33m\u001b[0m\u001b[1;33m\u001b[0m\u001b[0m\n\u001b[0m\u001b[0;32m   3081\u001b[0m             \u001b[1;32mexcept\u001b[0m \u001b[0mKeyError\u001b[0m \u001b[1;32mas\u001b[0m \u001b[0merr\u001b[0m\u001b[1;33m:\u001b[0m\u001b[1;33m\u001b[0m\u001b[1;33m\u001b[0m\u001b[0m\n",
      "\u001b[1;32mpandas\\_libs\\index.pyx\u001b[0m in \u001b[0;36mpandas._libs.index.IndexEngine.get_loc\u001b[1;34m()\u001b[0m\n",
      "\u001b[1;32mpandas\\_libs\\index.pyx\u001b[0m in \u001b[0;36mpandas._libs.index.IndexEngine.get_loc\u001b[1;34m()\u001b[0m\n",
      "\u001b[1;32mpandas\\_libs\\hashtable_class_helper.pxi\u001b[0m in \u001b[0;36mpandas._libs.hashtable.PyObjectHashTable.get_item\u001b[1;34m()\u001b[0m\n",
      "\u001b[1;32mpandas\\_libs\\hashtable_class_helper.pxi\u001b[0m in \u001b[0;36mpandas._libs.hashtable.PyObjectHashTable.get_item\u001b[1;34m()\u001b[0m\n",
      "\u001b[1;31mKeyError\u001b[0m: 'KOSDAQ'",
      "\nThe above exception was the direct cause of the following exception:\n",
      "\u001b[1;31mKeyError\u001b[0m                                  Traceback (most recent call last)",
      "\u001b[1;32m~\\AppData\\Local\\Temp/ipykernel_18060/3769720445.py\u001b[0m in \u001b[0;36m<module>\u001b[1;34m\u001b[0m\n\u001b[0;32m      2\u001b[0m     \u001b[0mcompany_info\u001b[0m\u001b[1;33m[\u001b[0m\u001b[0mcol\u001b[0m\u001b[1;33m]\u001b[0m \u001b[1;33m=\u001b[0m \u001b[0mcompany_info\u001b[0m\u001b[1;33m[\u001b[0m\u001b[0mcol\u001b[0m\u001b[1;33m]\u001b[0m\u001b[1;33m.\u001b[0m\u001b[0mstr\u001b[0m\u001b[1;33m.\u001b[0m\u001b[0mstrip\u001b[0m\u001b[1;33m(\u001b[0m\u001b[1;33m)\u001b[0m\u001b[1;33m\u001b[0m\u001b[1;33m\u001b[0m\u001b[0m\n\u001b[0;32m      3\u001b[0m \u001b[1;32mif\u001b[0m \u001b[1;34m'KSE'\u001b[0m \u001b[1;32min\u001b[0m \u001b[0mall_cols\u001b[0m\u001b[1;33m:\u001b[0m\u001b[1;33m\u001b[0m\u001b[1;33m\u001b[0m\u001b[0m\n\u001b[1;32m----> 4\u001b[1;33m     \u001b[0mcompany_info\u001b[0m\u001b[1;33m[\u001b[0m\u001b[1;34m'KRX'\u001b[0m\u001b[1;33m]\u001b[0m \u001b[1;33m=\u001b[0m \u001b[1;33m(\u001b[0m\u001b[0mcompany_info\u001b[0m\u001b[1;33m[\u001b[0m\u001b[1;34m'KSE'\u001b[0m\u001b[1;33m]\u001b[0m\u001b[1;33m.\u001b[0m\u001b[0mastype\u001b[0m\u001b[1;33m(\u001b[0m\u001b[0mstr\u001b[0m\u001b[1;33m)\u001b[0m \u001b[1;33m+\u001b[0m \u001b[0mcompany_info\u001b[0m\u001b[1;33m[\u001b[0m\u001b[1;34m'KOSDAQ'\u001b[0m\u001b[1;33m]\u001b[0m\u001b[1;33m.\u001b[0m\u001b[0mastype\u001b[0m\u001b[1;33m(\u001b[0m\u001b[0mstr\u001b[0m\u001b[1;33m)\u001b[0m\u001b[1;33m)\u001b[0m\u001b[1;33m.\u001b[0m\u001b[0mstr\u001b[0m\u001b[1;33m.\u001b[0m\u001b[0mreplace\u001b[0m\u001b[1;33m(\u001b[0m\u001b[1;34m'nan'\u001b[0m\u001b[1;33m,\u001b[0m\u001b[1;34m''\u001b[0m\u001b[1;33m)\u001b[0m\u001b[1;33m.\u001b[0m\u001b[0mstr\u001b[0m\u001b[1;33m.\u001b[0m\u001b[0mstrip\u001b[0m\u001b[1;33m(\u001b[0m\u001b[1;33m)\u001b[0m\u001b[1;33m\u001b[0m\u001b[1;33m\u001b[0m\u001b[0m\n\u001b[0m\u001b[0;32m      5\u001b[0m \u001b[1;32melse\u001b[0m\u001b[1;33m:\u001b[0m\u001b[1;33m\u001b[0m\u001b[1;33m\u001b[0m\u001b[0m\n\u001b[0;32m      6\u001b[0m     \u001b[0mcompany_info\u001b[0m\u001b[1;33m[\u001b[0m\u001b[1;34m'KRX'\u001b[0m\u001b[1;33m]\u001b[0m \u001b[1;33m=\u001b[0m \u001b[0mcompany_info\u001b[0m\u001b[1;33m[\u001b[0m\u001b[1;34m'KOSDAQ'\u001b[0m\u001b[1;33m]\u001b[0m\u001b[1;33m.\u001b[0m\u001b[0mastype\u001b[0m\u001b[1;33m(\u001b[0m\u001b[0mstr\u001b[0m\u001b[1;33m)\u001b[0m\u001b[1;33m.\u001b[0m\u001b[0mstr\u001b[0m\u001b[1;33m.\u001b[0m\u001b[0mreplace\u001b[0m\u001b[1;33m(\u001b[0m\u001b[1;34m'nan'\u001b[0m\u001b[1;33m,\u001b[0m\u001b[1;34m''\u001b[0m\u001b[1;33m)\u001b[0m\u001b[1;33m.\u001b[0m\u001b[0mstr\u001b[0m\u001b[1;33m.\u001b[0m\u001b[0mstrip\u001b[0m\u001b[1;33m(\u001b[0m\u001b[1;33m)\u001b[0m\u001b[1;33m\u001b[0m\u001b[1;33m\u001b[0m\u001b[0m\n",
      "\u001b[1;32m~\\Anaconda3\\lib\\site-packages\\pandas\\core\\frame.py\u001b[0m in \u001b[0;36m__getitem__\u001b[1;34m(self, key)\u001b[0m\n\u001b[0;32m   3022\u001b[0m             \u001b[1;32mif\u001b[0m \u001b[0mself\u001b[0m\u001b[1;33m.\u001b[0m\u001b[0mcolumns\u001b[0m\u001b[1;33m.\u001b[0m\u001b[0mnlevels\u001b[0m \u001b[1;33m>\u001b[0m \u001b[1;36m1\u001b[0m\u001b[1;33m:\u001b[0m\u001b[1;33m\u001b[0m\u001b[1;33m\u001b[0m\u001b[0m\n\u001b[0;32m   3023\u001b[0m                 \u001b[1;32mreturn\u001b[0m \u001b[0mself\u001b[0m\u001b[1;33m.\u001b[0m\u001b[0m_getitem_multilevel\u001b[0m\u001b[1;33m(\u001b[0m\u001b[0mkey\u001b[0m\u001b[1;33m)\u001b[0m\u001b[1;33m\u001b[0m\u001b[1;33m\u001b[0m\u001b[0m\n\u001b[1;32m-> 3024\u001b[1;33m             \u001b[0mindexer\u001b[0m \u001b[1;33m=\u001b[0m \u001b[0mself\u001b[0m\u001b[1;33m.\u001b[0m\u001b[0mcolumns\u001b[0m\u001b[1;33m.\u001b[0m\u001b[0mget_loc\u001b[0m\u001b[1;33m(\u001b[0m\u001b[0mkey\u001b[0m\u001b[1;33m)\u001b[0m\u001b[1;33m\u001b[0m\u001b[1;33m\u001b[0m\u001b[0m\n\u001b[0m\u001b[0;32m   3025\u001b[0m             \u001b[1;32mif\u001b[0m \u001b[0mis_integer\u001b[0m\u001b[1;33m(\u001b[0m\u001b[0mindexer\u001b[0m\u001b[1;33m)\u001b[0m\u001b[1;33m:\u001b[0m\u001b[1;33m\u001b[0m\u001b[1;33m\u001b[0m\u001b[0m\n\u001b[0;32m   3026\u001b[0m                 \u001b[0mindexer\u001b[0m \u001b[1;33m=\u001b[0m \u001b[1;33m[\u001b[0m\u001b[0mindexer\u001b[0m\u001b[1;33m]\u001b[0m\u001b[1;33m\u001b[0m\u001b[1;33m\u001b[0m\u001b[0m\n",
      "\u001b[1;32m~\\Anaconda3\\lib\\site-packages\\pandas\\core\\indexes\\base.py\u001b[0m in \u001b[0;36mget_loc\u001b[1;34m(self, key, method, tolerance)\u001b[0m\n\u001b[0;32m   3080\u001b[0m                 \u001b[1;32mreturn\u001b[0m \u001b[0mself\u001b[0m\u001b[1;33m.\u001b[0m\u001b[0m_engine\u001b[0m\u001b[1;33m.\u001b[0m\u001b[0mget_loc\u001b[0m\u001b[1;33m(\u001b[0m\u001b[0mcasted_key\u001b[0m\u001b[1;33m)\u001b[0m\u001b[1;33m\u001b[0m\u001b[1;33m\u001b[0m\u001b[0m\n\u001b[0;32m   3081\u001b[0m             \u001b[1;32mexcept\u001b[0m \u001b[0mKeyError\u001b[0m \u001b[1;32mas\u001b[0m \u001b[0merr\u001b[0m\u001b[1;33m:\u001b[0m\u001b[1;33m\u001b[0m\u001b[1;33m\u001b[0m\u001b[0m\n\u001b[1;32m-> 3082\u001b[1;33m                 \u001b[1;32mraise\u001b[0m \u001b[0mKeyError\u001b[0m\u001b[1;33m(\u001b[0m\u001b[0mkey\u001b[0m\u001b[1;33m)\u001b[0m \u001b[1;32mfrom\u001b[0m \u001b[0merr\u001b[0m\u001b[1;33m\u001b[0m\u001b[1;33m\u001b[0m\u001b[0m\n\u001b[0m\u001b[0;32m   3083\u001b[0m \u001b[1;33m\u001b[0m\u001b[0m\n\u001b[0;32m   3084\u001b[0m         \u001b[1;32mif\u001b[0m \u001b[0mtolerance\u001b[0m \u001b[1;32mis\u001b[0m \u001b[1;32mnot\u001b[0m \u001b[1;32mNone\u001b[0m\u001b[1;33m:\u001b[0m\u001b[1;33m\u001b[0m\u001b[1;33m\u001b[0m\u001b[0m\n",
      "\u001b[1;31mKeyError\u001b[0m: 'KOSDAQ'"
     ]
    }
   ],
   "source": [
    "for col in all_cols: # 컬럼별로 앞뒤 공백제거\n",
    "    company_info[col] = company_info[col].str.strip()\n",
    "    \n",
    "if 'KSE' in all_cols:\n",
    "    company_info['KRX'] = (company_info['KSE'].astype(str) + company_info['KOSDAQ'].astype(str)).str.replace('nan','').str.strip()\n",
    "else:\n",
    "    company_info['KRX'] = company_info['KOSDAQ'].astype(str).str.replace('nan','').str.strip()\n",
    "# 종목앞에 코스피/코스닥이 있어서 삭제\n",
    "company_info['KRX'] = company_info['KRX'].str.split(' ',1,expand=True)[1] \n",
    "company_info['KRX'].fillna(company_info['FICS'], inplace=True)"
   ]
  },
  {
   "cell_type": "code",
   "execution_count": 19,
   "id": "2177e4dc",
   "metadata": {},
   "outputs": [
    {
     "data": {
      "text/html": [
       "<div>\n",
       "<style scoped>\n",
       "    .dataframe tbody tr th:only-of-type {\n",
       "        vertical-align: middle;\n",
       "    }\n",
       "\n",
       "    .dataframe tbody tr th {\n",
       "        vertical-align: top;\n",
       "    }\n",
       "\n",
       "    .dataframe thead th {\n",
       "        text-align: right;\n",
       "    }\n",
       "</style>\n",
       "<table border=\"1\" class=\"dataframe\">\n",
       "  <thead>\n",
       "    <tr style=\"text-align: right;\">\n",
       "      <th></th>\n",
       "      <th>0</th>\n",
       "      <th>1</th>\n",
       "      <th>2</th>\n",
       "      <th>KSE</th>\n",
       "      <th>FICS</th>\n",
       "      <th>종목코드</th>\n",
       "      <th>종목명</th>\n",
       "      <th>KEY</th>\n",
       "    </tr>\n",
       "  </thead>\n",
       "  <tbody>\n",
       "    <tr>\n",
       "      <th>0</th>\n",
       "      <td>2021/05/10</td>\n",
       "      <td>국내 및 해외의 고객사 확보</td>\n",
       "      <td>SK이노베이션 주식회사의 소재사업부문을 단순ㆍ물적분할하여 설립되었으며, 배터리 소재...</td>\n",
       "      <td>코스피 전기,전자</td>\n",
       "      <td>전자 장비 및 기기</td>\n",
       "      <td>361610</td>\n",
       "      <td>SK아이이테크놀로지</td>\n",
       "      <td>KOSPI361610</td>\n",
       "    </tr>\n",
       "  </tbody>\n",
       "</table>\n",
       "</div>"
      ],
      "text/plain": [
       "            0                1  \\\n",
       "0  2021/05/10  국내 및 해외의 고객사 확보   \n",
       "\n",
       "                                                   2        KSE        FICS  \\\n",
       "0  SK이노베이션 주식회사의 소재사업부문을 단순ㆍ물적분할하여 설립되었으며, 배터리 소재...  코스피 전기,전자  전자 장비 및 기기   \n",
       "\n",
       "     종목코드         종목명          KEY  \n",
       "0  361610  SK아이이테크놀로지  KOSPI361610  "
      ]
     },
     "execution_count": 19,
     "metadata": {},
     "output_type": "execute_result"
    }
   ],
   "source": [
    "company_info"
   ]
  },
  {
   "cell_type": "code",
   "execution_count": 10,
   "id": "fa56bbed",
   "metadata": {},
   "outputs": [],
   "source": [
    "def _get_fnguide_company_info(code):\n",
    "    # fnguide 기업정보 결과물 넣을 dataframes---------------\n",
    "    global company_info # 업종, business summary\n",
    "    global financial_highlights # 재무제표\n",
    "    global sales_mix # 제품별 매출비중 가장 최근\n",
    "    global market_share # 시장점유율 가장 최근\n",
    "    global cogs_n_oc # 판관비율추이, 매출원가율추이\n",
    "    global export_n_domestic # 수출 및 내수 구성\n",
    "\n",
    "    # 업종, business summary, 재무제표 공통\n",
    "    url = f\"http://comp.fnguide.com/SVO2/asp/SVD_Main.asp?pGB=1&gicode=A{code}&cID=&MenuYn=Y&ReportGB=&NewMenuID=101&stkGb=701\"\n",
    "    time.sleep(2)\n",
    "    r = requests.get(url, headers={'User-Agent': user_agent})\n",
    "    dom = BeautifulSoup(r.text, \"html.parser\")\n",
    "\n",
    "    # 업종, business summary\n",
    "    # 업종 가져오기\n",
    "    temp = []\n",
    "    for i in [1,2]: # 1=KSE 업종, 2=FICS 업종\n",
    "        text = dom.select(f'#compBody > div.section.ul_corpinfo > div.corp_group1 > p > span.stxt.stxt{i}')[0]\n",
    "        temp.append(text.text.replace('\\xa0',' ').split(' ',1))\n",
    "    industry = pd.DataFrame(temp).T\n",
    "    # 첫행을 컬럼으로 변경하고 원래있던 첫행은 삭제\n",
    "    industry.columns = industry.iloc[0]\n",
    "    industry = industry.iloc[1:,].copy().reset_index(drop=True)\n",
    "    #-------------------------------------\n",
    "\n",
    "    # Business Summary 가져오기\n",
    "    # update날짜 앞뒤로 []가 있어서 삭제\n",
    "    try: # 일부 종목은 Business Summary 없음\n",
    "        biz_summary_date = dom.select('#bizSummaryDate')[0].text.strip()[1:-1]\n",
    "        # 제목\n",
    "        biz_summary_title = dom.select('#bizSummaryHeader')[0].text.replace('\\xa0',' ').strip()\n",
    "        # 내용\n",
    "        contents =[]\n",
    "        for i in range(len(dom.select('#bizSummaryContent > li'))):\n",
    "            contents.append(dom.select('#bizSummaryContent > li')[i].text.replace('\\xa0',' ').strip())\n",
    "        contents = [contents[0] + \" \" + contents[1]]\n",
    "        # 합쳐서 하나로 만들기 + 업종도\n",
    "        contents = pd.DataFrame([biz_summary_date, biz_summary_title, contents]).T\n",
    "        contents[2] = contents[2][0][0] # 내용 컬럼의 값이 앞뒤로 list[]화 되어 있어서 문자열로 변경\n",
    "        df = pd.concat([contents, industry], axis=1)\n",
    "        # fnguide에 오류있어서 수정\n",
    "        if code == '260970':\n",
    "            try:\n",
    "                company_info.rename(columns={'KONEX':'KOSDAQ'}, inplace=True)\n",
    "            except:\n",
    "                pass\n",
    "        df['종목코드'] = code\n",
    "        # 결과물 추가\n",
    "        company_info = company_info.append(df)\n",
    "    except:\n",
    "        pass\n",
    "    # 재무제표\n",
    "    # highlight_D_A # 연결 전체, highlight_B_A # 별도 전체 - 사용x\n",
    "    df_types = {'highlight_D_Y':'연결 연간',\n",
    "                'highlight_D_Q':'연결 분기',\n",
    "                'highlight_B_Y':'별도 연간',\n",
    "                'highlight_B_Q':'별도 분기'}\n",
    "    df_all = pd.DataFrame()\n",
    "    for fs_type in df_types.keys():\n",
    "        try:\n",
    "            # 날짜 컬럼\n",
    "            temp = dom.select(f'#{fs_type} > table > thead > tr.td_gapcolor2 > th > div')\n",
    "            date_cols = []\n",
    "            for x in [x.text.strip() for x in temp]:\n",
    "                if len(x)>7:\n",
    "                    date_cols.append(x.split('추정치')[-1].strip())\n",
    "                else:\n",
    "                    date_cols.append(x)\n",
    "            # 계정명 컬럼\n",
    "            temp = dom.select(f'#{fs_type} > table > tbody > tr > th')\n",
    "            account_cols = []\n",
    "            for acc in [x.text.strip() for x in temp]:\n",
    "                if acc.count(\"(\",)>1:\n",
    "                    account_cols.append(acc.split(')',1)[0] + ')')\n",
    "                else :\n",
    "                    account_cols.append(acc)\n",
    "            df = pd.DataFrame(account_cols)\n",
    "            # data 값\n",
    "            data_values = [x.text.strip() for x in dom.select(f'#{fs_type} > table > tbody > tr > td')]\n",
    "            lap = len(date_cols)\n",
    "            for i in range(lap):\n",
    "                temp_df = pd.DataFrame(data_values[i::lap]) # 컬럼의 갯수(lap)만큼 매n번째마다 합쳐줌\n",
    "                df = pd.concat([df, temp_df], axis=1)\n",
    "            # 항목 컬럼명 추가해서 df 컬럼 만들기\n",
    "            df.columns = ['항목'] + date_cols\n",
    "            df['연결/별도'] = df_types[fs_type].split(' ')[0]\n",
    "            df['연간/분기'] = df_types[fs_type].split(' ')[1]\n",
    "            df = df.melt(id_vars=['항목', '연결/별도', '연간/분기'], var_name='날짜',value_name='값')\n",
    "            df = helper.clean_numeric_value(df)\n",
    "            df_all = df_all.append(df)\n",
    "        except:\n",
    "            pass\n",
    "    try:\n",
    "        df_all['종목코드'] = code\n",
    "        # 결과물 추가\n",
    "        financial_highlights = financial_highlights.append(df_all)\n",
    "        del df_all, df, temp, data_values\n",
    "    except:\n",
    "        pass\n",
    "\n",
    "    #----- 제품별 매출비중, 시장점유율, 판관비율, 매출원가율, 수출 및 내수구성 공통 ------ ------ ------\n",
    "    url = f\"http://comp.fnguide.com/SVO2/asp/SVD_Corp.asp?pGB=1&gicode=A{code}&cID=&MenuYn=Y&ReportGB=&NewMenuID=102&stkGb=701\"\n",
    "    r = requests.get(url, headers={'User-Agent': user_agent})\n",
    "    dom = BeautifulSoup(r.text, \"html.parser\")\n",
    "\n",
    "    #----- 제품별 매출비중 가장 최근 ----- ------ ------ ------ ------ ------ ------ ------ -----\n",
    "    # 날짜 컬럼\n",
    "    date_cols = dom.select('#divProduct > div.ul_col2_l > div > div.um_table.pd_t1 > table > thead > tr > th')\n",
    "    date_cols = [x.text.strip() for x in date_cols]\n",
    "\n",
    "    # 제품명\n",
    "    products = dom.select('#divProduct > div.ul_col2_l > div > div.um_table.pd_t1 > table > tbody > tr > th')\n",
    "    products = [x.text.replace('\\xa0',' ').strip() for x in products]\n",
    "    df = pd.DataFrame(products)\n",
    "\n",
    "    # 제품별 매출비중\n",
    "    data_values = dom.select('#divProduct > div.ul_col2_l > div > div.um_table.pd_t1 > table > tbody > tr > td')\n",
    "    data_values = [x.text.strip() for x in data_values]\n",
    "\n",
    "    try:\n",
    "        # 데이터 df\n",
    "        lap = len(date_cols) -1\n",
    "        for i in range(lap):\n",
    "            temp_df = pd.DataFrame(data_values[i::lap]) # 컬럼의 갯수(lap)만큼 매n번째마다 합쳐줌\n",
    "            df = pd.concat([df, temp_df], axis=1)\n",
    "        df.columns=date_cols\n",
    "        df = df[df.columns.tolist()[::lap]]\n",
    "        # 마지막 정리\n",
    "        # 본래 날짜 컬럼인것을 '구성비'로 수정하고 마지막 날짜만 남기기\n",
    "        mix_date = df.columns.tolist()[-1] # 마지막 날짜 컬럼명\n",
    "        df.rename(columns={mix_date:'구성비'}, inplace=True)\n",
    "        df['기준날짜'] = mix_date # 마지막날짜를 기준날짜로 삽입\n",
    "        # 길이가 0이 안되면 삭제\n",
    "        filt = df['구성비'].apply(len) > 0\n",
    "        df = df.loc[filt].copy()\n",
    "        df['구성비'] = df['구성비'].astype('float')/100\n",
    "        # 제품명이 기타(계)인 것 보다 아래에 있으면 삭제\n",
    "        filt = df['제품명']=='기타(계)'\n",
    "        try:\n",
    "            df = df[df.index.tolist() < df[filt].index].copy().reset_index(drop=True)\n",
    "        except:\n",
    "            pass\n",
    "        # 결과물 추가\n",
    "        df['종목코드'] = code\n",
    "        sales_mix = sales_mix.append(df)\n",
    "        del df, filt, mix_date, data_values, products, date_cols\n",
    "    except:\n",
    "        pass\n",
    "\n",
    "    #----- 시장점유율 가장 최근 ------ ------ ------ ------ ------ ------ ------ ------ ------\n",
    "    # 표 컬럼\n",
    "    ms_col = dom.select('#divProduct > div.ul_col2_r > div > div.um_table.pd_t1 > table > thead > th')\n",
    "    ms_col = [x.text.strip() for x in ms_col]\n",
    "    # 제품 컬럼\n",
    "    products = dom.select('#divProduct > div.ul_col2_r > div > div.um_table.pd_t1 > table > tbody > tr > th')\n",
    "    products = [x.text.replace('\\xa0',' ').strip() for x in products]\n",
    "    # 제품별 시장점유율\n",
    "    data_values = dom.select('#divProduct > div.ul_col2_r > div > div.um_table.pd_t1 > table > tbody > tr > td')\n",
    "    data_values = [x.text.strip() for x in data_values]\n",
    "    # 한번에 df로 만들기\n",
    "    df = pd.DataFrame([products, data_values]).T\n",
    "    try:\n",
    "        df.columns = ms_col\n",
    "        # 마지막 정리\n",
    "        filt1 = df['시장점유율'].apply(len) > 0\n",
    "        filt2 = df['주요제품']!='전체'\n",
    "        filt = filt1 & filt2\n",
    "        df = df.loc[filt].copy()\n",
    "        df['시장점유율'] = df['시장점유율'].astype('float')/100\n",
    "        df['종목코드'] = code\n",
    "    # 결과물 추가\n",
    "        market_share = market_share.append(df)\n",
    "        del filt1, filt2, df, data_values, products, ms_col\n",
    "    except:\n",
    "        pass\n",
    "\n",
    "    #----- 판관비율추이, 매출원가율추이 ------ ------ ------ ------ ------ ------ ------ ------\n",
    "    cost_types = {'panguanD_01':'연결,판관비율', 'panguanB_01':'별도,판관비율',\n",
    "                    'panguanD_02':'연결,매출원가율', 'panguanB_02':'별도,매출원가율'}\n",
    "    df = pd.DataFrame()\n",
    "    for cost_type in cost_types.keys():\n",
    "        try:\n",
    "            date_cols = dom.select(f'#{cost_type} > div > div.um_table > table > thead > tr > th')\n",
    "            date_cols = [x.text.strip() for x in date_cols]\n",
    "            data_values = dom.select(f'#{cost_type} > div > div.um_table > table > tbody > tr > td')\n",
    "            data_values = [cost_types[cost_type]] +  [x.text.strip() for x in data_values]\n",
    "            temp = pd.DataFrame(data_values).T\n",
    "            temp.columns = date_cols\n",
    "            df = df.append(temp)\n",
    "        except:\n",
    "            pass\n",
    "    try:\n",
    "        df = df.melt(id_vars='항목',var_name='날짜',value_name='값')\n",
    "        df = helper.clean_numeric_value(df)\n",
    "        df['값'] = df['값']/100\n",
    "        df['연결/별도'] = df['항목'].str.split(',', expand=True)[0]\n",
    "        df['항목'] = df['항목'].str.split(',', expand=True)[1]\n",
    "        df['종목코드'] = code\n",
    "        # 결과물 추가\n",
    "        cogs_n_oc = cogs_n_oc.append(df)\n",
    "        del df, date_cols, data_values, temp\n",
    "    except:\n",
    "        del df, date_cols, data_values, temp\n",
    "\n",
    "    # 수출 및 내수구성 정리\n",
    "    corp_types = {'corpExport_D':'연결',\n",
    "                  'corpExport_B':'별도'}\n",
    "    df = pd.DataFrame()\n",
    "    for corp_type in corp_types.keys():\n",
    "        try:\n",
    "            # 날짜컬럼\n",
    "            col = dom.select(f'#{corp_type} > table > thead > tr.th2row_f > th')\n",
    "            col = [x.text.strip() for x in col]\n",
    "            # ['매출유형', '제품명', '2017/12', '2018/12', '2019/12']\n",
    "            #col의 결과에서 날짜만 선택 → ['2017/12', '2018/12', '2019/12']\n",
    "            date_cols = col[2:]\n",
    "            # 날짜와 내수/수출 combination된 df 만들기\n",
    "            date_df = pd.DataFrame(['매출유형','제품명'] + [(x,y) for x in date_cols for y in ['내수','수출']])\n",
    "            #------ ------ ------ ------ ------ ------ ------ ------\n",
    "            # 매출유형 철럼\n",
    "            sales_type = dom.select(f'#{corp_type} > table > tbody > tr > td.clf') # 매출유형\n",
    "            sales_type = [x.text.strip() for x in sales_type]\n",
    "            # ['제품', '기타', '기타', '']\n",
    "            #------ ------ ------ ------ ------ ------ ------ ------\n",
    "            # 제품명\n",
    "            products = dom.select(f'#{corp_type} > table > tbody > tr > td.l')\n",
    "            products =  [x.text.replace('\\xa0',' ').strip()  for x in products]\n",
    "            # ['Display 패널', 'LCD, OLED 기술 특허', '원재료,부품 등', '합계']\n",
    "            # 매출유형+제품명 합친 df\n",
    "            col_df = pd.DataFrame([sales_type, products]).T\n",
    "            #------ ------ ------ ------ ------ ------ ------ ------\n",
    "            # 데이터 정리\n",
    "            data_values = dom.select(f'#{corp_type} > table > tbody > tr > td.r')\n",
    "            data_values = [x.text.strip() for x in data_values]\n",
    "            lap = len(date_cols)*2 # 다중index 컬럼이라서 *2 (날짜별 내수/수출)\n",
    "            temp_df = pd.DataFrame()\n",
    "            for i in range(lap):\n",
    "                temp = pd.DataFrame(data_values[i::lap])\n",
    "                temp_df = pd.concat([temp_df, temp], axis=1)\n",
    "            #------ ------ ------ ------ ------ ------ ------ ------\n",
    "            # 매출유형+제품명 합친 df + 데이터 df\n",
    "            temp_df = pd.concat([col_df, temp_df], axis=1)\n",
    "            # 매출유형+제품명 합친 df + 데이터 df + 날짜df\n",
    "            temp_df = pd.concat([date_df, temp_df.T.reset_index(drop=True)], axis=1).T\n",
    "            #------ ------ ------ ------ ------ ------ ------ ------\n",
    "            # 합쳐진거 전처리\n",
    "            # 첫행을 column으로 셋팅하고 첫행 삭제\n",
    "            temp_df.columns = temp_df.iloc[0]\n",
    "            temp_df = temp_df.iloc[1:,].copy()\n",
    "            # wide to tidy\n",
    "            temp_df = temp_df.melt(id_vars=['매출유형','제품명'], var_name='임시', value_name='값')\n",
    "            temp_df['연결/별도'] = corp_types[corp_type]\n",
    "            # 컬럼 정리\n",
    "            df = df.append(temp_df)\n",
    "        except:\n",
    "            pass\n",
    "    try:\n",
    "        df['날짜'] = df['임시'].str[0]\n",
    "        df['수출/내수'] = df['임시'].str[1]\n",
    "        df.loc[df['매출유형'].apply(len)==0,'매출유형'] = df.loc[df['매출유형'].apply(len)==0,'제품명']\n",
    "        col = ['매출유형','제품명','수출/내수','연결/별도','날짜','값']\n",
    "        df = df[col].sort_values(by='날짜', ascending=False)\n",
    "        '''\n",
    "        값이 없는 경우에도 제품명은 가져오기 위해서\n",
    "        df['값'].sum() ==''으로 test해서 각 경우 별도로 처리\n",
    "        '''\n",
    "        df = df.drop_duplicates(subset=['매출유형','제품명','연결/별도','값'])\n",
    "        if df['값'].sum() =='':\n",
    "            df = df.drop_duplicates(subset=['매출유형','연결/별도','제품명'])\n",
    "            df['값'] = 0\n",
    "        else:\n",
    "            filt = df['값'].apply(len)>0\n",
    "            df = df.loc[filt].copy()\n",
    "            df['값'] = df['값'].astype('float')/100\n",
    "        df['종목코드'] = code\n",
    "        df.reset_index(drop=True, inplace=True)\n",
    "        # 결과물 추가\n",
    "        export_n_domestic = export_n_domestic.append(df)\n",
    "        # del df, col, temp_df, data_values, products, date_cols\n",
    "    except:\n",
    "        pass\n",
    "    print(f'{code} 완료')"
   ]
  },
  {
   "cell_type": "code",
   "execution_count": null,
   "id": "9daaef44",
   "metadata": {},
   "outputs": [],
   "source": []
  }
 ],
 "metadata": {
  "kernelspec": {
   "display_name": "Python 3",
   "language": "python",
   "name": "python3"
  },
  "language_info": {
   "codemirror_mode": {
    "name": "ipython",
    "version": 3
   },
   "file_extension": ".py",
   "mimetype": "text/x-python",
   "name": "python",
   "nbconvert_exporter": "python",
   "pygments_lexer": "ipython3",
   "version": "3.8.8"
  }
 },
 "nbformat": 4,
 "nbformat_minor": 5
}
