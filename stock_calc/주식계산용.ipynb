{
 "cells": [
  {
   "cell_type": "code",
   "execution_count": 1,
   "id": "29830b0d",
   "metadata": {},
   "outputs": [
    {
     "data": {
      "text/html": [
       "<style>.container { width:100% !important; }</style>"
      ],
      "text/plain": [
       "<IPython.core.display.HTML object>"
      ]
     },
     "metadata": {},
     "output_type": "display_data"
    }
   ],
   "source": [
    "import pandas as pd\n",
    "import importlib, sys\n",
    "sys.path.append(r\"C:\\Users\\bong2\\OneDrive\\Python_Codes\\00_python_scripts\") # script 경로 window용\n",
    "\n",
    "from IPython.core.display import display, HTML\n",
    "display(HTML(\"<style>.container { width:100% !important; }</style>\"))\n",
    "pd.set_option('display.max_columns', 50)\n",
    "pd.set_option('display.max_rows', 100)  \n",
    "\n",
    "import conn_db\n",
    "\n",
    "import warnings\n",
    "warnings.filterwarnings(action='ignore')"
   ]
  },
  {
   "cell_type": "code",
   "execution_count": 258,
   "id": "f813ad77",
   "metadata": {},
   "outputs": [
    {
     "data": {
      "text/plain": [
       "<module 'conn_db' from 'C:\\\\Users\\\\bong2\\\\OneDrive\\\\Python_Codes\\\\00_python_scripts\\\\conn_db.py'>"
      ]
     },
     "execution_count": 258,
     "metadata": {},
     "output_type": "execute_result"
    }
   ],
   "source": [
    "importlib.reload(conn_db)"
   ]
  },
  {
   "cell_type": "markdown",
   "id": "241ebae1",
   "metadata": {},
   "source": [
    "### dataset 불러오기"
   ]
  },
  {
   "cell_type": "code",
   "execution_count": 3,
   "id": "2014a590",
   "metadata": {
    "tags": []
   },
   "outputs": [],
   "source": [
    "# 총괄에 있는 코드 LIST로 가져오기\n",
    "codes = conn_db.from_('DB_기업정보', '총괄')['KEY'].unique().tolist()\n",
    "\n",
    "# 코스피 지수\n",
    "kospi_df = conn_db.from_('코스피_코스닥지수', 'import_kospi_all')\n",
    "kospi_df['Close'] = kospi_df['Close'].str.replace(',', '').astype(float)\n",
    "names = {'Close': '코스피',\n",
    "         'Date': '날짜'}\n",
    "kospi_df.rename(columns=names, inplace=True)\n",
    "df_index = conn_db.import_('PER_PBR_배당수익률_전체취합본')\n",
    "\n",
    "# 주가, 거래량, 거래대금, 시가총액 데이터 불러와서 전처리\n",
    "df_cap = conn_db.import_('시가총액_전체취합본')\n",
    "row_filter = df_cap['DATE'] >= '2019-01-01'\n",
    "col_filter = ['DATE', 'KEY', 'close', '거래량', '거래대금', '시가총액']\n",
    "df_cap = df_cap.loc[row_filter, col_filter].reset_index(drop=True)\n",
    "df_cap['시총대비 거래대금'] = df_cap['거래대금']/df_cap['시가총액']\n",
    "\n",
    "cols = {'DATE': '날짜',\n",
    "        'close': '주가'}\n",
    "df_cap.rename(columns=cols, inplace=True)"
   ]
  },
  {
   "cell_type": "markdown",
   "id": "0ab83dfb",
   "metadata": {},
   "source": [
    "### dummy df"
   ]
  },
  {
   "cell_type": "code",
   "execution_count": 206,
   "id": "c03b71c1",
   "metadata": {
    "tags": []
   },
   "outputs": [],
   "source": [
    "def make_dummy_df(days):\n",
    "    # 가장 최근 n일 날짜\n",
    "    last_n_days_df = df_cap[['날짜']].drop_duplicates().iloc[-days:]\n",
    "    # 가장 최근 n일 날짜를 컬럼으로 하는 df\n",
    "    df = pd.DataFrame(columns=['KEY'] +\n",
    "                      last_n_days_df['날짜'].astype(str).tolist())\n",
    "    return df"
   ]
  },
  {
   "cell_type": "markdown",
   "id": "01b5d7b6",
   "metadata": {},
   "source": [
    "#### calc_daily_change"
   ]
  },
  {
   "cell_type": "code",
   "execution_count": 207,
   "id": "5cf5dd7f",
   "metadata": {
    "tags": []
   },
   "outputs": [],
   "source": [
    "def calc_daily_change(code, colname, days):  # 종목별 일별 상승률 계산\n",
    "    '''\n",
    "    종목별 일별 상승률 계산\n",
    "    '''\n",
    "    filt_date = df_cap['날짜'].isin(df_cap['날짜'].unique()[-(days+1):])\n",
    "    filt_key = df_cap['KEY'] == code\n",
    "    filt = filt_date & filt_key\n",
    "    df = df_cap.loc[filt].reset_index(drop=True)\n",
    "    try:\n",
    "        if len(df) > 0:\n",
    "            df[f'{colname} 전일비'] = df[colname].pct_change(periods=1)\n",
    "            df['날짜'] = df['날짜'].astype(str)\n",
    "            df = df.tail(days).pivot_table(\n",
    "                index='KEY', columns='날짜', values=f'{colname} 전일비')\n",
    "            df.reset_index(inplace=True)\n",
    "            df.columns.name = None\n",
    "            return df\n",
    "        else:\n",
    "            pass\n",
    "    except:\n",
    "        print(f'{code} 에서 오류')"
   ]
  },
  {
   "cell_type": "markdown",
   "id": "8ac67082",
   "metadata": {},
   "source": [
    "#### calc_cum_change"
   ]
  },
  {
   "cell_type": "code",
   "execution_count": 208,
   "id": "4f3098cb",
   "metadata": {},
   "outputs": [],
   "source": [
    "def calc_cum_change(code, colname):  #  종목별 일별 누적상승률 계산\n",
    "    '''\n",
    "    종목별 일별 누적상승률 계산\n",
    "    '''\n",
    "    cols = ['날짜', 'KEY', colname]\n",
    "    df = df_cap.loc[df_cap['KEY'] == code, cols].iloc[-201:]\n",
    "\n",
    "    if colname == '시가총액':\n",
    "        df[colname] = df[colname]/1000000000000\n",
    "    elif colname == '거래대금':\n",
    "        df[colname] = df[colname]/100000000\n",
    "    elif colname == '거래량':\n",
    "        df[colname] = df[colname]/10000\n",
    "    else:\n",
    "        pass\n",
    "\n",
    "    if len(df) > 0:\n",
    "        for x in [1, 2, 3, 5, 10, 20, 45, 60, 120, 200]:\n",
    "            df.loc[:, f'{colname} (D-{x})'] = df[colname].pct_change(periods=x)\n",
    "        return df.tail(1).reset_index(drop=True)\n",
    "    else:\n",
    "        pass"
   ]
  },
  {
   "cell_type": "markdown",
   "id": "42f55683",
   "metadata": {},
   "source": [
    "#### get_series_df"
   ]
  },
  {
   "cell_type": "code",
   "execution_count": 209,
   "id": "c6ce0d2d",
   "metadata": {},
   "outputs": [],
   "source": [
    "def get_series_df(colname, days): # N days 동안의 주가, 거래량, 거래대금, 시가총액 테이블 구하기\n",
    "    '''\n",
    "    N days 동안의 주가, 거래량, 거래대금, 시가총액 테이블 구하기\n",
    "    '''\n",
    "    cols = ['날짜', 'KEY', colname]\n",
    "    if colname in ['주가', '거래량', '거래대금', '시가총액', '시총대비 거래대금']:\n",
    "        df = df_cap[cols]\n",
    "    else:\n",
    "        df = df_index[cols]\n",
    "\n",
    "    last_n_days_df = df[['날짜']].drop_duplicates().iloc[-days:]\n",
    "    filt = df['날짜'].isin(last_n_days_df['날짜'].tolist())\n",
    "    df = df.loc[filt].reset_index(drop=True)\n",
    "\n",
    "    df['날짜'] = df['날짜'].astype(str)\n",
    "    if colname == '시가총액':\n",
    "        df[colname] = df[colname]/1000000000000\n",
    "    elif colname == '거래대금':\n",
    "        df[colname] = df[colname]/100000000\n",
    "    elif colname == '거래량':\n",
    "        df[colname] = df[colname]/10000\n",
    "    elif colname == '배당수익률':\n",
    "        df[colname] = df[colname]/100\n",
    "    else:\n",
    "        pass\n",
    "\n",
    "    df = df.pivot_table(values=colname, columns='날짜',\n",
    "                        index='KEY').reset_index()\n",
    "    df.columns.name = None\n",
    "    return df"
   ]
  },
  {
   "cell_type": "markdown",
   "id": "239b3979",
   "metadata": {},
   "source": [
    "#### 값 구하기"
   ]
  },
  {
   "cell_type": "code",
   "execution_count": 98,
   "id": "c2a7b864",
   "metadata": {
    "tags": []
   },
   "outputs": [],
   "source": [
    "def daily_values(days):  # 최근 일별 추이\n",
    "    '''\n",
    "    최근 일별 추이\n",
    "    '''\n",
    "    upload_dict = {'주가':'최근주가',\n",
    "                   '거래량':'최근거래량(만주)', \n",
    "                   '거래대금':'최근거래대금(억원)', \n",
    "                   '시가총액':'최근시가총액(조원)',\n",
    "                   '시총대비 거래대금': '거래대금_시총대비'}\n",
    "    # 신규상장인 경우 값 계산을 안해서 nan이 생겨서\n",
    "    # loop 돌고나서 유효한 컬름으로 대체하기 위해서 미리 cols 생성\n",
    "    cols = make_dummy_df(days).columns.tolist()\n",
    "\n",
    "    for colname in upload_dict.keys():\n",
    "        # df = make_dummy_df(days)\n",
    "        # df = df.append(get_series_df(colname, days), ignore_index=True)\n",
    "        df = get_series_df(colname, days)[cols]\n",
    "        conn_db.to_(df, 'data_from_krx', upload_dict[colname])\n",
    "        print(f'{colname} 최근 {days}일 테이블 완료')"
   ]
  },
  {
   "cell_type": "code",
   "execution_count": 205,
   "id": "dedcabbb",
   "metadata": {},
   "outputs": [],
   "source": [
    "def daily_change(days):  # 최근 일별 상승률\n",
    "    '''\n",
    "    최근 일별 상승률\n",
    "    ''' \n",
    "    upload_dict = {'주가':'주가_전일비', \n",
    "                    '시가총액':'시가총액_전일비'}\n",
    "    # 신규상장인 경우 값 계산을 안해서 nan이 생겨서 \n",
    "    # loop 돌고나서 유효한 컬름으로 대체하기 위해서 미리 cols 생성\n",
    "    cols = make_dummy_df(days).columns.tolist()\n",
    "    for colname in upload_dict.keys():\n",
    "        df = pd.concat([calc_daily_change(code, colname, days) for code in codes], ignore_index=True)\n",
    "        conn_db.to_(df[cols], 'data_from_krx', upload_dict[colname])\n",
    "        print(f'{colname} 최근 {days}일 상승률 테이블 완료')"
   ]
  },
  {
   "cell_type": "code",
   "execution_count": 210,
   "id": "17cf1583",
   "metadata": {},
   "outputs": [],
   "source": [
    "def cum_change(days):  # 일별 누적상승률\n",
    "    '''\n",
    "    누적상승률 \n",
    "    '''\n",
    "    last_date = df_cap['날짜'].max()  # 가장 최근 날짜 필터링\n",
    "    filt = df_cap['날짜']==last_date\n",
    "    valid_codes = df_cap.loc[filt]['KEY'].tolist() # 가장 최근 날짜에 값이 있는 KEY\n",
    "\n",
    "    upload_dict = {'주가':'주가_누적증감', \n",
    "                    '시가총액':'시총_누적증감'}\n",
    "    for colname in upload_dict.keys():\n",
    "        df = pd.concat([calc_cum_change(code, colname) for code in valid_codes], ignore_index=True)\n",
    "        conn_db.to_(df, 'data_from_krx', upload_dict[colname])\n",
    "        print(f'{colname} 최근 누적증감률 테이블 완료')"
   ]
  },
  {
   "cell_type": "code",
   "execution_count": 211,
   "id": "eaf5d03c",
   "metadata": {},
   "outputs": [],
   "source": [
    "def kospi_daily_chg(days): # 코스피 일별 상승률\n",
    "    cols = ['날짜', '코스피']\n",
    "    df = kospi_df[cols].tail(days+1)\n",
    "    df['코스피 증감'] = df['코스피'].pct_change(periods=1)\n",
    "\n",
    "    cols = ['날짜', '코스피 증감']\n",
    "    df = df[cols].tail(days).reset_index(drop=True)\n",
    "    conn_db.to_(df, '코스피_코스닥지수', 'kospi_전일비')"
   ]
  },
  {
   "cell_type": "code",
   "execution_count": 212,
   "id": "7e3c517e",
   "metadata": {},
   "outputs": [],
   "source": [
    "def chg_over_market(kospi_days): # 일별 시장대비 상승률\n",
    "    # 코스피 전일비 불러오기\n",
    "    df_kospi = conn_db.from_('코스피_코스닥지수', 'kospi_전일비')\n",
    "    df_kospi['코스피 증감'] = df_kospi['코스피 증감'].astype(float)\n",
    "\n",
    "    # 주가 전일비 불러오기\n",
    "    df_price_chg = conn_db.from_('data_from_krx', '주가_전일비')\n",
    "    df_price_chg = df_price_chg.melt(\n",
    "        id_vars='KEY', var_name='날짜', value_name='주가 증감')\n",
    "    df_price_chg['주가 증감'] = pd.to_numeric(df_price_chg['주가 증감'])\n",
    "\n",
    "    # 합쳐서 시장대비 상승률 구하기\n",
    "    df = df_price_chg.merge(df_kospi, how='left', on='날짜')\n",
    "    df['시장대비'] = df['주가 증감'] - df['코스피 증감']\n",
    "\n",
    "    # pivot 후 업로드\n",
    "    cols = ['KEY', '날짜', '시장대비']\n",
    "    df = df[cols]\n",
    "    df = df.pivot_table(index='KEY', columns='날짜', values='시장대비').reset_index()\n",
    "    df.columns.name = None\n",
    "    conn_db.to_(df, 'data_from_krx', '시장대비수익률_일별')\n",
    "    print('시장대비 일별 수익률 계산 완료')"
   ]
  },
  {
   "cell_type": "code",
   "execution_count": 213,
   "id": "908a1024",
   "metadata": {},
   "outputs": [],
   "source": [
    "def calc_kospi_cum_change(days): # 코스피 일별 누적상승률 계산\n",
    "    '''\n",
    "    코스피 일별 누적상승률 계산\n",
    "    '''\n",
    "    cols = ['날짜','코스피']\n",
    "    df = kospi_df[cols]\n",
    "    for x in [1, 2, 3, 5, 10, 20, 45, 60, 120, 200]:\n",
    "        df.loc[:,f'D-{x}'] = df['코스피'].pct_change(periods=x)\n",
    "\n",
    "    df = df.tail(days).sort_values(by='날짜', ascending=False)\n",
    "    df.reset_index(drop=True, inplace=True)\n",
    "    conn_db.to_(df, '코스피_코스닥지수', '코스피증감')"
   ]
  },
  {
   "cell_type": "code",
   "execution_count": 214,
   "id": "57b1aea2",
   "metadata": {},
   "outputs": [],
   "source": [
    "def make_code_index_daily_df(days): # PER_PBR_배당수익률 table 만들기\n",
    "    '''\n",
    "    PER_PBR_배당수익률 table 만들기\n",
    "    ''' \n",
    "    # 신규상장인 경우 값 계산을 안해서 nan이 생겨서 \n",
    "    # loop 돌고나서 유효한 컬름으로 대체하기 위해서 미리 cols 생성\n",
    "    cols = make_dummy_df(days).columns.tolist()\n",
    "\n",
    "    for col in ['EPS','PER','PBR','BPS','DPS','배당수익률']:\n",
    "        df_index[col].fillna(0, inplace=True)\n",
    "        df = get_series_df(col,days)[cols]\n",
    "        conn_db.to_(df, 'data_from_krx', col)"
   ]
  },
  {
   "cell_type": "code",
   "execution_count": 215,
   "id": "32ee3674",
   "metadata": {},
   "outputs": [],
   "source": [
    "def make_last_date_indexes(): # 가장 최근날짜의 지표 모은 df 만들기\n",
    "    '''\n",
    "    가장 최근날짜의 지표 모은 df 만들기\n",
    "    '''\n",
    "    max_date = df_cap['날짜'].unique().max()\n",
    "    filt_cap = df_cap['날짜'] == max_date\n",
    "    filt_per = df_index['날짜'] == max_date\n",
    "    \n",
    "    cols = ['날짜', 'KEY']\n",
    "    df = df_cap[filt_cap].merge(df_index[filt_per], on=cols, how='left')\n",
    "    \n",
    "    cols = ['종목명', '종목코드']\n",
    "    df.drop(columns=cols, inplace=True)\n",
    "\n",
    "    df['거래량 (만주)'] = df['거래량']/10000\n",
    "    df['거래대금 (억원)'] = df['거래대금']\n",
    "    df['시가총액 (조원)'] = df['시가총액']/10000\n",
    "    df['배당수익률'] = df['배당수익률']/100\n",
    "\n",
    "    cols = ['KEY',\n",
    "            '날짜',\n",
    "            '주가',\n",
    "            '거래량 (만주)',\n",
    "            '거래대금 (억원)',\n",
    "            '시가총액 (조원)',\n",
    "            'EPS',\n",
    "            'PER',\n",
    "            'BPS',\n",
    "            'PBR',\n",
    "            'DPS',\n",
    "            '배당수익률']\n",
    "    conn_db.to_(df[cols], 'data_from_krx', '전체취합본') "
   ]
  },
  {
   "cell_type": "code",
   "execution_count": 216,
   "id": "453e75b8",
   "metadata": {},
   "outputs": [],
   "source": [
    "def cum_chg_over_market(): # 종목별 시장대비 누적상승률\n",
    "    kospi_df = conn_db.from_('코스피_코스닥지수', '코스피증감').head(1)\n",
    "    stock_df = conn_db.from_('data_from_krx', '시총_누적증감')\n",
    "\n",
    "    if stock_df['날짜'].unique() == kospi_df['날짜'].unique():\n",
    "        date = stock_df['날짜'].unique().tolist()[0]\n",
    "\n",
    "        stock_df.drop(columns=['시가총액', '날짜'], inplace=True)\n",
    "        kospi_df.drop(columns=['코스피', '날짜'], inplace=True)\n",
    "    else:\n",
    "        print('기준날짜가 다름')\n",
    "\n",
    "    date_cum_cols = kospi_df.columns.tolist()\n",
    "    # ['D-1', 'D-2', 'D-3', 'D-5', 'D-10', 'D-20', 'D-45', 'D-60', 'D-120', 'D-200']\n",
    "    for col in date_cum_cols:\n",
    "        kospi_df[col] = pd.to_numeric(kospi_df[col])\n",
    "        stock_df[col] = pd.to_numeric(stock_df[col])\n",
    "\n",
    "    stock_df = stock_df.melt(id_vars='KEY', var_name='날짜', value_name='시총 증감')\n",
    "    kospi_df = kospi_df.melt(var_name='날짜', value_name='코스피 증감').reset_index()\n",
    "\n",
    "    cols = ['KEY', 'index']\n",
    "    df = stock_df.merge(kospi_df, on='날짜').sort_values(by=cols)\n",
    "\n",
    "    df['시장대비수익률'] = df['시총 증감'] - df['코스피 증감']\n",
    "    cols = ['KEY', '날짜', '시장대비수익률']\n",
    "    df = df[cols].pivot_table(index='KEY', columns='날짜',\n",
    "                            values='시장대비수익률').reset_index()\n",
    "    df.columns.name = None\n",
    "\n",
    "    cols = ['KEY'] + date_cum_cols\n",
    "    df = df[cols]\n",
    "    conn_db.to_(df, 'data_from_krx', '시장대비수익률_누적')"
   ]
  }
 ],
 "metadata": {
  "kernelspec": {
   "display_name": "Python 3",
   "language": "python",
   "name": "python3"
  },
  "language_info": {
   "codemirror_mode": {
    "name": "ipython",
    "version": 3
   },
   "file_extension": ".py",
   "mimetype": "text/x-python",
   "name": "python",
   "nbconvert_exporter": "python",
   "pygments_lexer": "ipython3",
   "version": "3.8.8"
  },
  "toc-autonumbering": false
 },
 "nbformat": 4,
 "nbformat_minor": 5
}
